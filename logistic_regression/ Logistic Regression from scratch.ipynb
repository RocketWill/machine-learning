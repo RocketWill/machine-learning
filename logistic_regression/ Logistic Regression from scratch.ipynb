{
 "cells": [
  {
   "cell_type": "code",
   "execution_count": 119,
   "metadata": {},
   "outputs": [],
   "source": [
    "%matplotlib inline\n",
    "import numpy as np\n",
    "import matplotlib.pyplot as plt\n",
    "from sklearn import datasets"
   ]
  },
  {
   "cell_type": "code",
   "execution_count": 120,
   "metadata": {},
   "outputs": [],
   "source": [
    "# load dataset\n",
    "iris = datasets.load_iris()"
   ]
  },
  {
   "cell_type": "code",
   "execution_count": 121,
   "metadata": {},
   "outputs": [],
   "source": [
    "# 為了視覺化分析結果，只選前兩個特徵（花萼長度，花萼寬度）\n",
    "# label 也轉換成二元結果（不是0的都為1）\n",
    "X = iris.data[:, :2]\n",
    "y = (iris.target == 0) * 1"
   ]
  },
  {
   "cell_type": "code",
   "execution_count": 122,
   "metadata": {},
   "outputs": [
    {
     "name": "stdout",
     "output_type": "stream",
     "text": [
      "Total number of data: 150 , Features number: 2\n"
     ]
    }
   ],
   "source": [
    "print(\"Total number of data: {}\".format(X.shape[0]), \", Features number: {}\".format(X.shape[1]))"
   ]
  },
  {
   "cell_type": "code",
   "execution_count": 123,
   "metadata": {},
   "outputs": [
    {
     "data": {
      "image/png": "[encoded data removed]",
      "text/plain": [
       "<Figure size 576x432 with 1 Axes>"
      ]
     },
     "metadata": {
      "needs_background": "light"
     },
     "output_type": "display_data"
    }
   ],
   "source": [
    "# 原始數據分佈圖\n",
    "plt.figure(figsize=(8, 6))\n",
    "plt.scatter(X[y==0][:, 0], X[y==0][:, 1], c=\"red\", marker=\"o\", label=\"0\")\n",
    "plt.scatter(X[y==1][:, 0], X[y==1][:, 1], c=\"green\", marker=\"o\", label=\"1\")\n",
    "plt.xlabel(\"sepal length\")\n",
    "plt.ylabel(\"sepal width\")\n",
    "plt.title('data distribution')\n",
    "plt.legend()\n",
    "plt.show()"
   ]
  },
  {
   "cell_type": "code",
   "execution_count": 124,
   "metadata": {},
   "outputs": [
    {
     "name": "stdout",
     "output_type": "stream",
     "text": [
      "Training: 120 , Test: 30\n"
     ]
    }
   ],
   "source": [
    "# 拆分資料集\n",
    "from sklearn.model_selection import train_test_split\n",
    "X_train, X_test, y_train, y_test = train_test_split(X, y, test_size=0.2, random_state=42)\n",
    "print(\"Training: {}\".format(X_train.shape[0]), \", Test: {}\".format(X_test.shape[0]))\n",
    "X_train, X_test, y_train, y_test = np.array(X_train), np.array(X_test), np.array(y_train), np.array(y_test)"
   ]
  },
  {
   "cell_type": "code",
   "execution_count": 125,
   "metadata": {},
   "outputs": [],
   "source": [
    "def sigmoid(x):\n",
    "    return 1 / (1 + np.exp(-x))"
   ]
  },
  {
   "cell_type": "code",
   "execution_count": 126,
   "metadata": {},
   "outputs": [
    {
     "data": {
      "image/png": "[encoded data removed]",
      "text/plain": [
       "<Figure size 432x288 with 1 Axes>"
      ]
     },
     "metadata": {
      "needs_background": "light"
     },
     "output_type": "display_data"
    }
   ],
   "source": [
    "# print sigmoid\n",
    "xmin, xmax, num = -6, 6, 200\n",
    "x = np.linspace(xmin, xmax, num)\n",
    "plt.plot(x, sigmoid(x), color = 'blue', linestyle = '-', linewidth = 3)\n",
    "plt.xlabel('x', fontsize = 14)\n",
    "plt.ylabel('sigmoid(x)')\n",
    "plt.xlim(xmin,xmax)\n",
    "plt.tick_params(axis = 'both', which = 'major', labelsize = 10)\n",
    "plt.title('Sigmoid')\n",
    "plt.grid('on')"
   ]
  },
  {
   "cell_type": "code",
   "execution_count": 127,
   "metadata": {},
   "outputs": [],
   "source": [
    "# 代价函数（標量）\n",
    "def loss(target, predict):\n",
    "    return (-target * np.log(predict) - (1 - target) * np.log(1 - predict)).mean()"
   ]
  },
  {
   "cell_type": "code",
   "execution_count": 128,
   "metadata": {},
   "outputs": [],
   "source": [
    "# 梯度下降\n",
    "def gradient_descent(X, target, predict):\n",
    "    return np.dot(X.T, (predict-target)) / target.shape[0]"
   ]
  },
  {
   "cell_type": "code",
   "execution_count": 129,
   "metadata": {},
   "outputs": [],
   "source": [
    "# 計算截距\n",
    "def add_intercept(X):\n",
    "    intercept = np.ones((X.shape[0], 1))\n",
    "    return np.concatenate((intercept, X), axis=1)"
   ]
  },
  {
   "cell_type": "code",
   "execution_count": 132,
   "metadata": {},
   "outputs": [],
   "source": [
    "# 定義 hyperparameters\n",
    "iter_num = 300000\n",
    "learning_rate = 0.1\n",
    "step = 10000"
   ]
  },
  {
   "cell_type": "code",
   "execution_count": 131,
   "metadata": {},
   "outputs": [
    {
     "name": "stdout",
     "output_type": "stream",
     "text": [
      "step:0, \tloss: 0.6931471805599453\n",
      "step:10000, \tloss: 0.03902487649029763\n",
      "step:20000, \tloss: 0.0329412851064785\n",
      "step:30000, \tloss: 0.029174775560755165\n",
      "step:40000, \tloss: 0.026257846296235732\n",
      "step:50000, \tloss: 0.023874821169157345\n",
      "step:60000, \tloss: 0.021891921856381936\n",
      "step:70000, \tloss: 0.020224784595230576\n",
      "step:80000, \tloss: 0.018810410842918554\n",
      "step:90000, \tloss: 0.01759949323516976\n",
      "step:100000, \tloss: 0.01655319965745558\n",
      "step:110000, \tloss: 0.01564100493589202\n",
      "step:120000, \tloss: 0.014838922285276687\n",
      "step:130000, \tloss: 0.014128048876504377\n",
      "step:140000, \tloss: 0.013493405832839384\n",
      "step:150000, \tloss: 0.012923037317738365\n",
      "step:160000, \tloss: 0.012407322040987108\n",
      "step:170000, \tloss: 0.011938450953449201\n",
      "step:180000, \tloss: 0.011510031494210414\n",
      "step:190000, \tloss: 0.011116786890520687\n",
      "step:200000, \tloss: 0.010754326477512314\n",
      "step:210000, \tloss: 0.010418969086687631\n",
      "step:220000, \tloss: 0.010107606225374426\n",
      "step:230000, \tloss: 0.009817595253763665\n",
      "step:240000, \tloss: 0.00954667532592306\n",
      "step:250000, \tloss: 0.009292900730344198\n",
      "step:260000, \tloss: 0.009054587629452594\n",
      "step:270000, \tloss: 0.008830271195167083\n",
      "step:280000, \tloss: 0.008618670870675416\n",
      "step:290000, \tloss: 0.00841866203033718\n"
     ]
    }
   ],
   "source": [
    "X_train = add_intercept(X_train)\n",
    "theta = np.zeros(X_train.shape[1])\n",
    "loss_record = []\n",
    "for i in range(iter_num):\n",
    "    z = np.dot(X_train, theta)\n",
    "    predict = sigmoid(z)\n",
    "    \n",
    "    # calculate loss\n",
    "    cur_loss = loss(y_train, predict)\n",
    "    # calculate gradient\n",
    "    gradient = gradient_descent(X_train, y_train, predict)\n",
    "    # update theta\n",
    "    theta -= learning_rate * gradient\n",
    "    \n",
    "    if i % step == 0:\n",
    "        loss_record.append(cur_loss)\n",
    "        print(\"step:{}, \\tloss: {}\".format(i, cur_loss))"
   ]
  },
  {
   "cell_type": "code",
   "execution_count": 140,
   "metadata": {},
   "outputs": [
    {
     "data": {
      "image/png": "[encoded data removed]",
      "text/plain": [
       "<Figure size 576x432 with 1 Axes>"
      ]
     },
     "metadata": {
      "needs_background": "light"
     },
     "output_type": "display_data"
    }
   ],
   "source": [
    "# print loss\n",
    "plt.figure(figsize=(8, 6))\n",
    "plt.plot(list(range(0, iter_num, step)), loss_record)\n",
    "plt.title(\"Loss\")\n",
    "plt.show()"
   ]
  },
  {
   "cell_type": "code",
   "execution_count": 156,
   "metadata": {},
   "outputs": [],
   "source": [
    "# predict\n",
    "def predict_prob(X_test, theta):\n",
    "    X_test = add_intercept(X_test)\n",
    "    return sigmoid(np.dot(X_test, theta))\n",
    "def predict(X_test, theta, threshold=0.5):\n",
    "    return (predict_prob(X_test, theta) > threshold) * 1\n",
    "def accuracy(target, predict):\n",
    "    count = 0\n",
    "    for i in range(len(target)):\n",
    "        if target[i] == predict[i]:\n",
    "            count += 1\n",
    "    return (count / len(target)) * 100"
   ]
  },
  {
   "cell_type": "code",
   "execution_count": 157,
   "metadata": {},
   "outputs": [],
   "source": [
    "predict = predict(X_test, theta)"
   ]
  },
  {
   "cell_type": "code",
   "execution_count": 159,
   "metadata": {},
   "outputs": [
    {
     "name": "stdout",
     "output_type": "stream",
     "text": [
      "Accuracy: 100.0%\n"
     ]
    }
   ],
   "source": [
    "# 計算準確率\n",
    "accuracy = accuracy(y_test, predict)\n",
    "print(\"Accuracy: {}%\".format(accuracy))"
   ]
  },
  {
   "cell_type": "code",
   "execution_count": 160,
   "metadata": {},
   "outputs": [
    {
     "data": {
      "text/plain": [
       "array([[20,  0],\n",
       "       [ 0, 10]])"
      ]
     },
     "execution_count": 160,
     "metadata": {},
     "output_type": "execute_result"
    }
   ],
   "source": [
    "# 繪製混淆矩陣\n",
    "from sklearn.metrics import confusion_matrix\n",
    "confusion_matrix(y_test, predict)"
   ]
  },
  {
   "cell_type": "code",
   "execution_count": null,
   "metadata": {},
   "outputs": [],
   "source": []
  }
 ],
 "metadata": {
  "kernelspec": {
   "display_name": "Python 3",
   "language": "python",
   "name": "python3"
  },
  "language_info": {
   "codemirror_mode": {
    "name": "ipython",
    "version": 3
   },
   "file_extension": ".py",
   "mimetype": "text/x-python",
   "name": "python",
   "nbconvert_exporter": "python",
   "pygments_lexer": "ipython3",
   "version": "3.7.3"
  }
 },
 "nbformat": 4,
 "nbformat_minor": 2
}
